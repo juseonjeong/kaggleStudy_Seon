{
 "cells": [
  {
   "cell_type": "markdown",
   "metadata": {},
   "source": [
    "[실행 X : 데이터 분석 참고용]"
   ]
  },
  {
   "cell_type": "markdown",
   "metadata": {},
   "source": [
    "## 1. 데이터 준비하기\n",
    ": 데이터 다운로드 및 읽어오기"
   ]
  },
  {
   "cell_type": "code",
   "execution_count": null,
   "metadata": {},
   "outputs": [],
   "source": [
    "import pandas as pd\n",
    "import numpy as np\n",
    "\n",
    "train = pd.read_csv(\"데이터명\", na_values=['-1','-1.0']) #na_values 는 무엇인가요\n",
    "test = pd.read_csv(\"데이터명\", na_values=['-1','-1.0'])"
   ]
  },
  {
   "cell_type": "markdown",
   "metadata": {},
   "source": [
    "## 2. 탐색적 데이터 분석"
   ]
  },
  {
   "cell_type": "code",
   "execution_count": null,
   "metadata": {},
   "outputs": [],
   "source": [
    "##기초통계로 데이터 살펴보기\n",
    "\n",
    "print(train.shape, test.shape)"
   ]
  },
  {
   "cell_type": "code",
   "execution_count": null,
   "metadata": {},
   "outputs": [],
   "source": [
    "train.head()\n",
    "train.info()"
   ]
  },
  {
   "cell_type": "code",
   "execution_count": null,
   "metadata": {},
   "outputs": [],
   "source": [
    "#목표변수 살펴보기\n",
    "np.unique(train['target'])\n",
    "\n",
    "#예측일 경우 0 or 1 이므로 1일 확률 구해보기\n",
    "1.0 * sum(train['target'])/train.shape[0]"
   ]
  },
  {
   "cell_type": "code",
   "execution_count": null,
   "metadata": {},
   "outputs": [],
   "source": [
    "##시각화로 데이터 살펴보기\n",
    "\n",
    "import matplotlib\n",
    "import matplotlib.pyplot as plt\n",
    "#jupyter notebook 내부에 그래프 출력하도록 설정\n",
    "%matplotlib inline\n",
    "import seaborn as sns"
   ]
  },
  {
   "cell_type": "code",
   "execution_count": null,
   "metadata": {},
   "outputs": [],
   "source": [
    "#단일 변수 히스토그램 : 훈련 데이터와 테스트 데이터를 단일 데이터로 통합\n",
    "#테스트 데이터에 목표변수가 없다면 결측치로 넣고 통합하기\n",
    "test['target'] = np.nan\n",
    "#훈련 데이터와 테스트 데이터르 통합한 새로운 데이터(df) 생성\n",
    "df = pd.concat([train,test], axis=0)"
   ]
  },
  {
   "cell_type": "code",
   "execution_count": null,
   "metadata": {},
   "outputs": [],
   "source": [
    "#히스토그램 그래프 시각화를 위한 함수\n",
    "def bar_plot(col, data, hue=None):\n",
    "    f, ax = plt.subplots(figsize=(10,5))\n",
    "    sns.countplot(x=col, hue=hue, data=data, alpha=0.5)\n",
    "    plt.show()\n",
    "\n",
    "def dist_plot(col, data):\n",
    "    f, ax = plt.subplots(figsize=(10,5))\n",
    "    sns.distplot(data[col].dropna(), kde=False, bins=10)\n",
    "    plt.show()\n",
    "\n",
    "#이진변수, 범주형변수, 정수형 변수 시각화\n",
    "for col in binary + category + interger:\n",
    "    bar_plot(col, df)\n",
    "    \n",
    "#소수형변수 시각화\n",
    "for col in floats:\n",
    "    dist_plot(col, df)"
   ]
  },
  {
   "cell_type": "code",
   "execution_count": null,
   "metadata": {},
   "outputs": [],
   "source": [
    "#변수간 상관관계 : 히트맵\n",
    "corr = df.corr()\n",
    "\n",
    "cmap = sns.color_palette('Blues')\n",
    "f, ax = plt.subplots(figsize=(10,7))\n",
    "sns.heatmap(corr, cmap=cmap)\n",
    "\n",
    "#일부변수만 추출\n",
    "features = ['추출할 변수명', '추출할 변수명']\n",
    "\n",
    "corr_sub = df[features].corr()\n",
    "f, ax = plt.subplots(figsize=(10,7))\n",
    "sns.heatmap(corr_sub, cmap=cmap)"
   ]
  },
  {
   "cell_type": "code",
   "execution_count": null,
   "metadata": {},
   "outputs": [],
   "source": [
    "#단일변수 타겟변수 시각화를 위한 함수 : 변수의 고유값별로 95%의 신뢰구간을 함께 시각화\n",
    "\n",
    "def bar_plot_ci(col, data):\n",
    "    f, ax =plt.subplots(figsize=(10,5))\n",
    "    sns.barplot(x=col, y='target', data=data)\n",
    "    plt.show()\n",
    "    \n",
    "#이진 변수, 범주형 변수, 정수형 변수 시각화\n",
    "for col in binary + category + integer:\n",
    "    bar_plot_ci(col, df)"
   ]
  },
  {
   "cell_type": "code",
   "execution_count": null,
   "metadata": {},
   "outputs": [],
   "source": [
    "#훈련 데이터와 테스트 데이터 비교 : 분포의 유사도 확인\n",
    "df['is_test'] = df['target'].isnull()\n",
    "\n",
    "for col in binary + category + interger:\n",
    "    bar_plot(col, df, 'is_test')"
   ]
  },
  {
   "cell_type": "markdown",
   "metadata": {},
   "source": [
    "## 3. baseline 모델"
   ]
  },
  {
   "cell_type": "code",
   "execution_count": null,
   "metadata": {},
   "outputs": [],
   "source": [
    "#데이터 전처리"
   ]
  },
  {
   "cell_type": "code",
   "execution_count": null,
   "metadata": {},
   "outputs": [],
   "source": [
    "#피처 엔지니어링\n",
    "#1. 결측값의 개수를 나타내는 missing 변수\n",
    "#2. 이진변수들의 총합\n",
    "#3. Target Encoding 파생변수\n",
    "\n",
    "#결측값을 의미하는 -1의 개수 세기\n",
    "train['missing'] = (train==-1).sum(axis=1).astype(float)\n",
    "test['missing'] = (test==-1).sum(axis=1).astype(float)\n",
    "\n",
    "#이진변수들의 총합\n",
    "bin_features = [c for c in train.columns if 'bin' in c]\n",
    "train['bin_sum'] = train[bin_features].sum(axis=1)\n",
    "test['bin_sum'] = test[bin_features].sum(axis=1)\n",
    "\n",
    "# Target Encoding : 교차검증 과정에서 진행"
   ]
  },
  {
   "cell_type": "code",
   "execution_count": null,
   "metadata": {},
   "outputs": [],
   "source": [
    "#LightGBM 모델 정의\n",
    "num_boost_round = 10000\n",
    "params = {'objective': 'binary',\n",
    "         'boosting_type': 'gbdt',\n",
    "         'learning_rate': 0.1,\n",
    "         'num_leaves': 15,\n",
    "         'max_bin': 256,\n",
    "         'feature_fraction': 0.6,\n",
    "         'verbosity': 0,\n",
    "         'drop_rate': 0.1,\n",
    "         'is_unbalance': False,\n",
    "         'max_drop': 50,\n",
    "         'min_child_samples': 10,\n",
    "         'min_child_weight': 150,\n",
    "         'min_split_gain': 0,\n",
    "         'subsample': 0.9,\n",
    "         'seed': 2018\n",
    "         }"
   ]
  },
  {
   "cell_type": "code",
   "execution_count": null,
   "metadata": {},
   "outputs": [],
   "source": [
    "#모델 학습 및 교차 검증 평가\n",
    "#K(여기서는 5)-Fold StratifiedKFold 기법 : 시계열 데이터가 이니기때문에 사용가능\n",
    "#재현성을 위하여 random_state 고정\n",
    "\n",
    "#Stratified 5-Fold\n",
    "NFOLDS = 5\n",
    "kfold = StratifiedKFold(n_splits=NFOLDS, shuffle=True, random_state=218)\n",
    "kf = kfold.split(train, train_label)\n",
    "\n",
    "cv_train = np.zeros(len(train_label))\n",
    "cv_pred = np.zeros(len(test_id))\n",
    "best_trees = []\n",
    "fold_scores = []\n",
    "\n",
    "for i, (train_fold, validate) in enumerate(kf):\n",
    "    X_train, X_validate, label_train, label_validate = train.iloc[train_fold, :],\n",
    "    train.iloc[validate, :], train_label[train_fold], train_label[validate]\n",
    "    \n",
    "    #피처 엔지니어링을 수행 : target encoding\n",
    "    for feature in features :\n",
    "        #훈련데이터에서 feature 고유값별 타겟 변수의 평균 구하기\n",
    "        map_dic = pd.DataFrame([X_train[feature], label_train]).T.groupby(feature).agg('mean')\n",
    "        map_dic = map_dic.to_dict()['target']\n",
    "        #훈련/검증/테스트 데이터에 평균값을 매핑\n",
    "        X_train[feature + '_target_enc'] = X_train[feature].applyt(lambda x: map_dic.get(x, 0))\n",
    "        X-validate[feature + '_target_enc'] = X_validate[feature].apply(lambda x: map_dic.get(x, 0))\n",
    "        test[feature + '_target_enc'] = test[feature].apply(lambda x: map_dic.get(x, 0))\n",
    "    \n",
    "    dtrain = lgbm.Dataset(X_train, label_train)\n",
    "    dvalid = lgbm.Dataset(X_validate, label_validate, reference=dtrain)\n",
    "    bst = lgbm.train(params, dtrain, num_boost_round, valid_sets=dvalid,\n",
    "                    feval=evalerror, verbose_eval=100, early_stopping_rounds=100)\n",
    "    best_trees.append(bst.best_iteration)\n",
    "    cv_pred += bst.predict(test, num_iteration=bst.best_iteration)\n",
    "    cv_train[validate] += bst.predict(X_validate)\n",
    "    \n",
    "    score = Gini(label_validate, cv_train[validate])\n",
    "    print(score)\n",
    "    fold_scores.append(score)\n",
    "\n",
    "cv_pred /= NFOLDS\n",
    "\n",
    "print(\"cv score: \")\n",
    "print(Gini(train_label, cv_train))\n",
    "print(fold_scores)\n",
    "print(best_trees, np.mean(best_trees))\n",
    "\n",
    "pd.DataFrame({'id': test_id, 'target': cv_pred}).to_csv('결과물 저장할 파일명.csv',index=False )"
   ]
  },
  {
   "cell_type": "code",
   "execution_count": null,
   "metadata": {},
   "outputs": [],
   "source": []
  },
  {
   "cell_type": "code",
   "execution_count": null,
   "metadata": {},
   "outputs": [],
   "source": []
  },
  {
   "cell_type": "code",
   "execution_count": null,
   "metadata": {},
   "outputs": [],
   "source": []
  },
  {
   "cell_type": "code",
   "execution_count": null,
   "metadata": {},
   "outputs": [],
   "source": []
  },
  {
   "cell_type": "code",
   "execution_count": null,
   "metadata": {},
   "outputs": [],
   "source": []
  },
  {
   "cell_type": "code",
   "execution_count": null,
   "metadata": {},
   "outputs": [],
   "source": []
  },
  {
   "cell_type": "code",
   "execution_count": null,
   "metadata": {},
   "outputs": [],
   "source": []
  }
 ],
 "metadata": {
  "kernelspec": {
   "display_name": "Python 3",
   "language": "python",
   "name": "python3"
  },
  "language_info": {
   "codemirror_mode": {
    "name": "ipython",
    "version": 3
   },
   "file_extension": ".py",
   "mimetype": "text/x-python",
   "name": "python",
   "nbconvert_exporter": "python",
   "pygments_lexer": "ipython3",
   "version": "3.7.3"
  }
 },
 "nbformat": 4,
 "nbformat_minor": 2
}
